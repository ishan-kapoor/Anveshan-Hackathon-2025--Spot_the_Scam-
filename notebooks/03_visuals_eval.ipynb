{
  "nbformat": 4,
  "nbformat_minor": 0,
  "metadata": {
    "colab": {
      "provenance": []
    },
    "kernelspec": {
      "name": "python3",
      "display_name": "Python 3"
    },
    "language_info": {
      "name": "python"
    }
  },
  "cells": [
    {
      "cell_type": "code",
      "execution_count": 21,
      "metadata": {
        "id": "1frO9iIiGnpN",
        "colab": {
          "base_uri": "https://localhost:8080/",
          "height": 211
        },
        "outputId": "b1000de7-0919-41a7-b794-6c3c7c5844f0"
      },
      "outputs": [
        {
          "output_type": "error",
          "ename": "FileNotFoundError",
          "evalue": "[Errno 2] No such file or directory: '../models/best_model.pkl'",
          "traceback": [
            "\u001b[0;31m---------------------------------------------------------------------------\u001b[0m",
            "\u001b[0;31mFileNotFoundError\u001b[0m                         Traceback (most recent call last)",
            "\u001b[0;32m<ipython-input-21-3801054493>\u001b[0m in \u001b[0;36m<cell line: 0>\u001b[0;34m()\u001b[0m\n\u001b[1;32m      8\u001b[0m \u001b[0;34m\u001b[0m\u001b[0m\n\u001b[1;32m      9\u001b[0m \u001b[0;31m# Load model and vectorizer\u001b[0m\u001b[0;34m\u001b[0m\u001b[0;34m\u001b[0m\u001b[0m\n\u001b[0;32m---> 10\u001b[0;31m \u001b[0;32mwith\u001b[0m \u001b[0mopen\u001b[0m\u001b[0;34m(\u001b[0m\u001b[0;34m'../models/best_model.pkl'\u001b[0m\u001b[0;34m,\u001b[0m \u001b[0;34m'rb'\u001b[0m\u001b[0;34m)\u001b[0m \u001b[0;32mas\u001b[0m \u001b[0mf\u001b[0m\u001b[0;34m:\u001b[0m\u001b[0;34m\u001b[0m\u001b[0;34m\u001b[0m\u001b[0m\n\u001b[0m\u001b[1;32m     11\u001b[0m     \u001b[0mmodel\u001b[0m \u001b[0;34m=\u001b[0m \u001b[0mpickle\u001b[0m\u001b[0;34m.\u001b[0m\u001b[0mload\u001b[0m\u001b[0;34m(\u001b[0m\u001b[0mf\u001b[0m\u001b[0;34m)\u001b[0m\u001b[0;34m\u001b[0m\u001b[0;34m\u001b[0m\u001b[0m\n\u001b[1;32m     12\u001b[0m \u001b[0;34m\u001b[0m\u001b[0m\n",
            "\u001b[0;31mFileNotFoundError\u001b[0m: [Errno 2] No such file or directory: '../models/best_model.pkl'"
          ]
        }
      ],
      "source": [
        "# 📘 03_visuals_eval.ipynb – Visual Analysis of Model Output\n",
        "\n",
        "import pandas as pd\n",
        "import numpy as np\n",
        "import pickle\n",
        "import matplotlib.pyplot as plt\n",
        "import seaborn as sns\n",
        "\n",
        "# Load model and vectorizer\n",
        "with open('../models/best_model.pkl', 'rb') as f:\n",
        "    model = pickle.load(f)\n",
        "\n",
        "with open('../models/vectorizer.pkl', 'rb') as f:\n",
        "    tfidf = pickle.load(f)\n",
        "\n",
        "# Load test data\n",
        "test = pd.read_csv('../data/raw/test.csv')\n",
        "test['text'] = test[['title', 'description', 'requirements', 'benefits']].astype(str).agg(\" \".join, axis=1)\n",
        "\n",
        "# Transform and predict\n",
        "X_test_vec = tfidf.transform(test['text'])\n",
        "probs = model.predict_proba(X_test_vec)[:, 1]\n",
        "preds = model.predict(X_test_vec)\n",
        "\n",
        "# Save predictions\n",
        "output_df = test.copy()\n",
        "output_df['fraud_probability'] = probs\n",
        "output_df['predicted_label'] = preds\n",
        "output_df.to_csv('../outputs/predictions.csv', index=False)\n",
        "\n",
        "# 📊 Plot histogram of fraud probabilities\n",
        "plt.figure(figsize=(6, 4))\n",
        "sns.histplot(probs, bins=30, kde=True, color='orange')\n",
        "plt.title(\"Fraud Probability Distribution\")\n",
        "plt.xlabel(\"Probability\")\n",
        "plt.ylabel(\"Count\")\n",
        "plt.show()\n",
        "\n",
        "# 🥧 Pie chart of predicted fraud vs real\n",
        "labels = ['Real', 'Fraudulent']\n",
        "counts = [sum(preds == 0), sum(preds == 1)]\n",
        "plt.pie(counts, labels=labels, autopct='%1.1f%%', colors=['skyblue', 'salmon'])\n",
        "plt.title(\"Predicted Class Distribution\")\n",
        "plt.show()\n",
        "\n",
        "# 🔝 Top 10 suspicious jobs\n",
        "top_10 = output_df.sort_values(by='fraud_probability', ascending=False).head(10)\n",
        "print(\"Top 10 Suspicious Job Postings:\\n\", top_10[['title', 'location', 'fraud_probability']])\n"
      ]
    }
  ]
}